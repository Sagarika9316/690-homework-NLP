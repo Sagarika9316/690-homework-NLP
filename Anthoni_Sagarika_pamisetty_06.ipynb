{
  "cells": [
    {
      "cell_type": "code",
      "execution_count": 48,
      "metadata": {
        "id": "MNg8UTL9o58V"
      },
      "outputs": [],
      "source": [
        "from sklearn.ensemble import RandomForestClassifier\n",
        "from sklearn.dummy import DummyClassifier\n",
        "from sklearn.tree import DecisionTreeClassifier\n",
        "from sklearn.linear_model import LogisticRegression\n",
        "from sklearn.naive_bayes import MultinomialNB\n",
        "from sklearn.model_selection import train_test_split\n",
        "from sklearn.pipeline import Pipeline\n",
        "from sklearn.metrics.pairwise import cosine_similarity\n",
        "from sklearn.decomposition import TruncatedSVD, PCA\n",
        "from sklearn.metrics import accuracy_score, f1_score, precision_score, recall_score, confusion_matrix\n",
        "from sklearn.feature_extraction.text import CountVectorizer, TfidfVectorizer, HashingVectorizer\n",
        "from sklearn import datasets\n",
        "from sklearn.model_selection import GridSearchCV\n",
        "from nltk.corpus import names, movie_reviews\n",
        "import nltk\n",
        "import numpy as np\n",
        "import pandas as pd"
      ]
    },
    {
      "cell_type": "markdown",
      "source": [
        "1.Using Gensim, train a doc2vec model on the Brown Corpus. Try to classify documents from each category.\n",
        "\n"
      ],
      "metadata": {
        "id": "2jxHfY8tibcV"
      }
    },
    {
      "cell_type": "code",
      "execution_count": 49,
      "metadata": {
        "id": "iKuSgGMupeDY"
      },
      "outputs": [],
      "source": [
        "import gensim.downloader as api"
      ]
    },
    {
      "cell_type": "code",
      "execution_count": 50,
      "metadata": {
        "colab": {
          "base_uri": "https://localhost:8080/"
        },
        "id": "qUrYsvPCpk4I",
        "outputId": "08244dde-0b49-443a-9655-62c92acf2bab"
      },
      "outputs": [
        {
          "output_type": "stream",
          "name": "stdout",
          "text": [
            "Requirement already satisfied: nltk in /usr/local/lib/python3.10/dist-packages (3.8.1)\n",
            "Requirement already satisfied: click in /usr/local/lib/python3.10/dist-packages (from nltk) (8.1.7)\n",
            "Requirement already satisfied: joblib in /usr/local/lib/python3.10/dist-packages (from nltk) (1.3.2)\n",
            "Requirement already satisfied: regex>=2021.8.3 in /usr/local/lib/python3.10/dist-packages (from nltk) (2023.12.25)\n",
            "Requirement already satisfied: tqdm in /usr/local/lib/python3.10/dist-packages (from nltk) (4.66.2)\n"
          ]
        }
      ],
      "source": [
        "!pip install nltk"
      ]
    },
    {
      "cell_type": "code",
      "execution_count": 51,
      "metadata": {
        "id": "dtygYrHjAgpn"
      },
      "outputs": [],
      "source": [
        "from nltk.corpus import brown"
      ]
    },
    {
      "cell_type": "code",
      "execution_count": 52,
      "metadata": {
        "colab": {
          "base_uri": "https://localhost:8080/"
        },
        "id": "RZ-uDZeys2cm",
        "outputId": "0cb3a5e0-0bbb-44ce-d70f-5d29068b0643"
      },
      "outputs": [
        {
          "output_type": "stream",
          "name": "stderr",
          "text": [
            "[nltk_data] Downloading package brown to /root/nltk_data...\n",
            "[nltk_data]   Package brown is already up-to-date!\n"
          ]
        },
        {
          "output_type": "execute_result",
          "data": {
            "text/plain": [
              "True"
            ]
          },
          "metadata": {},
          "execution_count": 52
        }
      ],
      "source": [
        "nltk.download('brown')"
      ]
    },
    {
      "cell_type": "code",
      "execution_count": 53,
      "metadata": {
        "id": "tA3XxlWwtI1j"
      },
      "outputs": [],
      "source": [
        "brown_corpus = nltk.corpus.brown"
      ]
    },
    {
      "cell_type": "code",
      "execution_count": 54,
      "metadata": {
        "id": "N1Rz6PsJtPBo"
      },
      "outputs": [],
      "source": [
        "doc_ids = brown_corpus.fileids()\n",
        "categories = brown_corpus.categories()"
      ]
    },
    {
      "cell_type": "code",
      "execution_count": 55,
      "metadata": {
        "colab": {
          "base_uri": "https://localhost:8080/"
        },
        "id": "1a-bxsKnG9e8",
        "outputId": "d3101652-a47d-40a9-c795-d1bb800e96dc"
      },
      "outputs": [
        {
          "output_type": "stream",
          "name": "stdout",
          "text": [
            "Number of documents in train set: 400\n",
            "Number of documents in test set: 100\n",
            "400\n",
            "['cj15', 'cd03', 'cn20', 'cf08', 'cf18', 'cg28', 'cj67', 'cr04', 'cf17', 'ck02', 'ck07', 'ca37', 'cf21', 'cn26', 'cc17', 'cj47', 'cj13', 'cj03', 'cb14', 'cg14', 'ce31', 'ch17', 'cf06', 'ck23', 'cr06', 'cr02', 'ca31', 'ce14', 'cb23', 'cf15', 'cg03', 'cb10', 'cp06', 'cj37', 'ck10', 'cg29', 'ce03', 'cn25', 'cn18', 'cj31', 'cg38', 'ce19', 'cp15', 'cg66', 'cj19', 'cj32', 'cn24', 'ce33', 'cj27', 'ca40', 'cn06', 'cb13', 'cg17', 'cn17', 'cc15', 'cf43', 'cn04', 'ce29', 'ca19', 'cg32', 'cb07', 'cf04', 'ca42', 'cg01', 'cd07', 'cp07', 'cn27', 'cn08', 'cc06', 'cb05', 'cg09', 'ck27', 'cp25', 'cb15', 'cb11', 'ch16', 'cl11', 'ch22', 'ck14', 'cl07', 'ca04', 'ce06', 'ca18', 'cj41', 'cc07', 'ck11', 'cl03', 'cg39', 'ce21', 'ch09', 'cp29', 'cl13', 'ca14', 'cj38', 'cb06', 'cj14', 'ck15', 'cg64', 'ck22', 'cl05', 'cp03', 'cg55', 'cj11', 'ch06', 'ch04', 'ce10', 'cr03', 'cg46', 'cp14', 'cf44', 'cj16', 'cb16', 'cj76', 'cj65', 'cj21', 'cf40', 'ca13', 'ce36', 'cf39', 'cr09', 'cl20', 'cj40', 'cg08', 'ce07', 'ck09', 'cl02', 'cj10', 'cd09', 'cj52', 'cg31', 'cb08', 'cg61', 'cd06', 'cn07', 'cf46', 'cf32', 'cf24', 'ck28', 'ck20', 'ch18', 'ca07', 'ch25', 'cc02', 'cn11', 'cl18', 'cg75', 'cg53', 'cg10', 'cj80', 'ch08', 'cp05', 'cj62', 'cp10', 'ce09', 'cj63', 'ca30', 'ck16', 'ca06', 'ck17', 'cd17', 'cj53', 'cb20', 'cl06', 'cg68', 'ck13', 'cj05', 'cd12', 'cg69', 'ca21', 'cb19', 'ch24', 'ce13', 'cj12', 'cj71', 'cj64', 'cf37', 'cl24', 'ca09', 'cj50', 'cb22', 'cj68', 'ce34', 'ca32', 'ce30', 'cb26', 'ca34', 'cj55', 'cd14', 'cl14', 'cj57', 'cf41', 'cj60', 'ca10', 'cf26', 'cb09', 'ch20', 'cj73', 'cd02', 'cp23', 'cp17', 'ca36', 'cr08', 'cj77', 'ch05', 'ck06', 'ce08', 'cj24', 'cr07', 'cb12', 'cb17', 'cf35', 'ce35', 'ca16', 'ca11', 'cb24', 'cj51', 'ca25', 'cb04', 'cl08', 'cf11', 'ck03', 'cc05', 'cg16', 'cc13', 'cg37', 'cj49', 'cg57', 'cj08', 'ch27', 'cl21', 'ck29', 'cn13', 'cg07', 'cn29', 'ch11', 'ck12', 'ca12', 'cf28', 'ce32', 'cg67', 'cg23', 'cj06', 'cp20', 'cl16', 'ch19', 'cg13', 'cm05', 'ca35', 'ce17', 'cj48', 'cj20', 'ca26', 'cn05', 'cj22', 'cc01', 'cg72', 'cr01', 'ca43', 'ce24', 'ch12', 'cg70', 'cj58', 'ce26', 'cg33', 'cg19', 'cg04', 'cj33', 'cf13', 'ce11', 'cd16', 'cn28', 'ca38', 'cr05', 'cj26', 'cj54', 'ch03', 'ca39', 'ck08', 'cg34', 'ck05', 'cb25', 'cp12', 'cn09', 'cf12', 'cc16', 'cg36', 'cj66', 'cn15', 'ck26', 'cg12', 'cl17', 'cp04', 'ca17', 'ce27', 'cj45', 'cd04', 'ca44', 'cf23', 'cj02', 'ce18', 'ce23', 'cj61', 'cc10', 'cj17', 'cp24', 'cp22', 'cj69', 'cf36', 'cj35', 'ce12', 'ch02', 'cg15', 'ce28', 'ca15', 'ce01', 'cj75', 'cj25', 'cb02', 'cg25', 'ca03', 'cn02', 'cd11', 'cp18', 'cg21', 'ca33', 'cg52', 'ce16', 'cg06', 'cj29', 'ca41', 'cl04', 'cg63', 'cf25', 'cp09', 'cg24', 'cf31', 'cj30', 'cj07', 'cn14', 'cf01', 'cg60', 'ca01', 'cj39', 'ch07', 'cf14', 'cp28', 'ck04', 'cj72', 'cp16', 'cf05', 'cj09', 'cg26', 'cl01', 'cg22', 'cc09', 'ch15', 'cd15', 'ch30', 'cm03', 'ch28', 'ch10', 'cg30', 'cg20', 'cf30', 'cj01', 'cj18', 'cn22', 'cj79', 'cc12', 'ch01', 'cj42', 'cd13', 'ce02', 'cl23', 'cj59', 'ca27', 'cf29', 'cj23', 'cj74', 'ck19', 'cb27', 'ck21', 'cf45', 'cg71', 'cl10', 'cg59', 'cc11', 'cf16', 'ce25', 'cp02', 'cb18', 'cm06', 'cn21', 'ch29', 'cg43', 'cb03', 'cj36', 'cf34', 'cd05', 'cg74']\n",
            "['cf47', 'cg45', 'cl12', 'ck25', 'cb01', 'ca08', 'cl15', 'cb21', 'cg40', 'cc03', 'cn10', 'ce05', 'ca20', 'cg56', 'cl09', 'ca02', 'cm02', 'cg02', 'cf02', 'ca22', 'cp26', 'cp27', 'cj46', 'cf42', 'cg48', 'cc14', 'cm04', 'ce22', 'cg73', 'cf20', 'cp11', 'cf22', 'cd10', 'ch14', 'cn03', 'cf19', 'ca23', 'cg42', 'ce20', 'cg35', 'cl22', 'cg65', 'cp21', 'ch26', 'cg05', 'cg49', 'cn01', 'cn12', 'ca29', 'cn23', 'cg44', 'ch23', 'ck01', 'ca24', 'ce04', 'cg27', 'ck18', 'cn19', 'ce15', 'cg50', 'cm01', 'cj28', 'cf09', 'cp19', 'cg51', 'cg11', 'cc04', 'cg18', 'cj04', 'ca05', 'cf38', 'cf27', 'cj43', 'cj56', 'cf03', 'cj70', 'cj34', 'cg41', 'cc08', 'cp01', 'ck24', 'cg54', 'cp13', 'ch13', 'cf07', 'cg62', 'ch21', 'ca28', 'cj78', 'cj44', 'cl19', 'cp08', 'cf48', 'cf10', 'cd01', 'cf33', 'cg58', 'cg47', 'cd08', 'cn16']\n",
            "100\n"
          ]
        }
      ],
      "source": [
        "import gensim\n",
        "from sklearn.model_selection import train_test_split\n",
        "from nltk.corpus import brown\n",
        "import pandas as pd\n",
        "\n",
        "def read_corpus(doc_ids, tokens_only=False):\n",
        "    for doc_id, category in zip(doc_ids, categories):\n",
        "        text = ' '.join(brown.words(doc_id))\n",
        "        tokens = gensim.utils.simple_preprocess(text)\n",
        "        if tokens_only:\n",
        "            yield tokens\n",
        "        else:\n",
        "            # For training data, add tags and categories\n",
        "            yield gensim.models.doc2vec.TaggedDocument(tokens, [doc_id, category])\n",
        "\n",
        "# Get document IDs and categories from the Brown corpus\n",
        "doc_ids = brown.fileids()\n",
        "categories = brown.categories()\n",
        "#\n",
        "train_corpus = [fileids for category in categories for fileids in brown.fileids(categories = category)]\n",
        "\n",
        "# Split train_corpus into train and test sets\n",
        "train_corpus, test_corpus = train_test_split(train_corpus, test_size=0.2, random_state=42)\n",
        "\n",
        "print(\"Number of documents in train set:\", len(train_corpus))\n",
        "print(\"Number of documents in test set:\", len(test_corpus))\n",
        "print(len(train_corpus))\n",
        "print(train_corpus)\n",
        "print(test_corpus)\n",
        "print(len(test_corpus))\n"
      ]
    },
    {
      "cell_type": "code",
      "execution_count": 56,
      "metadata": {
        "colab": {
          "base_uri": "https://localhost:8080/"
        },
        "id": "bkGEjGLhXiI_",
        "outputId": "92b48614-b539-434c-a4a1-7f08f20adef1"
      },
      "outputs": [
        {
          "output_type": "stream",
          "name": "stderr",
          "text": [
            "WARNING:gensim.models.doc2vec:More unique tags (30) than documents (15).\n"
          ]
        }
      ],
      "source": [
        "model = gensim.models.Doc2Vec(vector_size=100,min_count=2,epochs=40)\n",
        "tagged_docs = list(read_corpus(train_corpus))\n",
        "model.build_vocab(tagged_docs)"
      ]
    },
    {
      "cell_type": "code",
      "execution_count": 57,
      "metadata": {
        "id": "MFxIzuJCWJAZ"
      },
      "outputs": [],
      "source": [
        "model.train(tagged_docs,total_examples= model.corpus_count,epochs=model.epochs)"
      ]
    },
    {
      "cell_type": "code",
      "execution_count": 58,
      "metadata": {
        "colab": {
          "base_uri": "https://localhost:8080/"
        },
        "id": "sGMEKTQbZasl",
        "outputId": "332a4302-2085-491c-9d0b-870b7494fd25"
      },
      "outputs": [
        {
          "output_type": "stream",
          "name": "stderr",
          "text": [
            "<ipython-input-58-357c81c8e77a>:6: DeprecationWarning: Call to deprecated `docvecs` (The `docvecs` property has been renamed `dv`.).\n",
            "  similar_docs = model.docvecs.most_similar([i_vector],topn=3)\n"
          ]
        },
        {
          "output_type": "stream",
          "name": "stdout",
          "text": [
            "Document :cf47,Category : lore\n",
            "Most similar docs:\n",
            "Document_id:belles_lettres,Similarity :0.7069841623306274\n",
            "Document_id:cd03,Similarity :0.7067169547080994\n",
            "Document_id:cr04,Similarity :0.5643598437309265\n",
            "Document :cg45,Category : belles_lettres\n",
            "Most similar docs:\n",
            "Document_id:religion,Similarity :0.7111846804618835\n",
            "Document_id:ca37,Similarity :0.7110491991043091\n",
            "Document_id:cd03,Similarity :0.4717333912849426\n",
            "Document :cl12,Category : mystery\n",
            "Most similar docs:\n",
            "Document_id:news,Similarity :0.6886856555938721\n",
            "Document_id:ck07,Similarity :0.6884686946868896\n",
            "Document_id:cr04,Similarity :0.6603367924690247\n",
            "Document :ck25,Category : fiction\n",
            "Most similar docs:\n",
            "Document_id:cr04,Similarity :0.6693037152290344\n",
            "Document_id:learned,Similarity :0.6687684059143066\n",
            "Document_id:editorial,Similarity :0.6045268774032593\n",
            "Document :cb01,Category : editorial\n",
            "Most similar docs:\n",
            "Document_id:religion,Similarity :0.7525434494018555\n",
            "Document_id:ca37,Similarity :0.7524735331535339\n",
            "Document_id:cd03,Similarity :0.5533287525177002\n",
            "Document :ca08,Category : news\n",
            "Most similar docs:\n",
            "Document_id:religion,Similarity :0.8590469360351562\n",
            "Document_id:ca37,Similarity :0.8590457439422607\n",
            "Document_id:cd03,Similarity :0.45499104261398315\n",
            "Document :cl15,Category : mystery\n",
            "Most similar docs:\n",
            "Document_id:cr04,Similarity :0.7286940813064575\n",
            "Document_id:learned,Similarity :0.7286158204078674\n",
            "Document_id:news,Similarity :0.5037432312965393\n",
            "Document :cb21,Category : editorial\n",
            "Most similar docs:\n",
            "Document_id:belles_lettres,Similarity :0.676821768283844\n",
            "Document_id:cd03,Similarity :0.676757276058197\n",
            "Document_id:science_fiction,Similarity :0.5776333212852478\n",
            "Document :cg40,Category : belles_lettres\n",
            "Most similar docs:\n",
            "Document_id:cr04,Similarity :0.6349509954452515\n",
            "Document_id:learned,Similarity :0.6347358226776123\n",
            "Document_id:belles_lettres,Similarity :0.6343005895614624\n",
            "Document :cc03,Category : reviews\n",
            "Most similar docs:\n",
            "Document_id:belles_lettres,Similarity :0.5295870900154114\n",
            "Document_id:cd03,Similarity :0.529397189617157\n",
            "Document_id:fiction,Similarity :0.5122874975204468\n",
            "Document :cn10,Category : adventure\n",
            "Most similar docs:\n",
            "Document_id:cn20,Similarity :0.7351561188697815\n",
            "Document_id:editorial,Similarity :0.7351112365722656\n",
            "Document_id:romance,Similarity :0.6665717959403992\n",
            "Document :ce05,Category : hobbies\n",
            "Most similar docs:\n",
            "Document_id:government,Similarity :0.6256082057952881\n",
            "Document_id:cf18,Similarity :0.625541090965271\n",
            "Document_id:cr04,Similarity :0.5021312832832336\n",
            "Document :ca20,Category : news\n",
            "Most similar docs:\n",
            "Document_id:religion,Similarity :0.620143473148346\n",
            "Document_id:ca37,Similarity :0.6200913190841675\n",
            "Document_id:cf17,Similarity :0.6019233465194702\n",
            "Document :cg56,Category : belles_lettres\n",
            "Most similar docs:\n",
            "Document_id:humor,Similarity :0.7069560289382935\n",
            "Document_id:cj67,Similarity :0.7068272829055786\n",
            "Document_id:fiction,Similarity :0.706734836101532\n",
            "Document :cl09,Category : mystery\n",
            "Most similar docs:\n",
            "Document_id:cn20,Similarity :0.7493858933448792\n",
            "Document_id:editorial,Similarity :0.7491055727005005\n",
            "Document_id:news,Similarity :0.5670506954193115\n",
            "Document :ca02,Category : news\n",
            "Most similar docs:\n",
            "Document_id:ca37,Similarity :0.701582133769989\n",
            "Document_id:religion,Similarity :0.7013599872589111\n",
            "Document_id:belles_lettres,Similarity :0.5319594740867615\n",
            "Document :cm02,Category : science_fiction\n",
            "Most similar docs:\n",
            "Document_id:government,Similarity :0.5276246070861816\n",
            "Document_id:cf18,Similarity :0.5271879434585571\n",
            "Document_id:belles_lettres,Similarity :0.5191463828086853\n",
            "Document :cg02,Category : belles_lettres\n",
            "Most similar docs:\n",
            "Document_id:cd03,Similarity :0.615821361541748\n",
            "Document_id:belles_lettres,Similarity :0.6156012415885925\n",
            "Document_id:religion,Similarity :0.613300085067749\n",
            "Document :cf02,Category : lore\n",
            "Most similar docs:\n",
            "Document_id:editorial,Similarity :0.5928459763526917\n",
            "Document_id:cn20,Similarity :0.5928068161010742\n",
            "Document_id:cf17,Similarity :0.5122796297073364\n",
            "Document :ca22,Category : news\n",
            "Most similar docs:\n",
            "Document_id:religion,Similarity :0.655484139919281\n",
            "Document_id:ca37,Similarity :0.6553066372871399\n",
            "Document_id:belles_lettres,Similarity :0.5949259400367737\n",
            "Document :cp26,Category : romance\n",
            "Most similar docs:\n",
            "Document_id:editorial,Similarity :0.7916791439056396\n",
            "Document_id:cn20,Similarity :0.7915149331092834\n",
            "Document_id:news,Similarity :0.6624268889427185\n",
            "Document :cp27,Category : romance\n",
            "Most similar docs:\n",
            "Document_id:cr04,Similarity :0.6721799373626709\n",
            "Document_id:learned,Similarity :0.6718562245368958\n",
            "Document_id:news,Similarity :0.6129959225654602\n",
            "Document :cj46,Category : learned\n",
            "Most similar docs:\n",
            "Document_id:ca37,Similarity :0.6472678780555725\n",
            "Document_id:religion,Similarity :0.6469636559486389\n",
            "Document_id:belles_lettres,Similarity :0.5883607268333435\n",
            "Document :cf42,Category : lore\n",
            "Most similar docs:\n",
            "Document_id:religion,Similarity :0.5706387162208557\n",
            "Document_id:ca37,Similarity :0.5702243447303772\n",
            "Document_id:hobbies,Similarity :0.5600012540817261\n",
            "Document :cg48,Category : belles_lettres\n",
            "Most similar docs:\n",
            "Document_id:cf17,Similarity :0.6307265162467957\n",
            "Document_id:lore,Similarity :0.6302385330200195\n",
            "Document_id:editorial,Similarity :0.532267153263092\n",
            "Document :cc14,Category : reviews\n",
            "Most similar docs:\n",
            "Document_id:hobbies,Similarity :0.6241273283958435\n",
            "Document_id:cg28,Similarity :0.6240513324737549\n",
            "Document_id:belles_lettres,Similarity :0.5839908123016357\n",
            "Document :cm04,Category : science_fiction\n",
            "Most similar docs:\n",
            "Document_id:news,Similarity :0.7135990262031555\n",
            "Document_id:ck07,Similarity :0.7134714126586914\n",
            "Document_id:cr04,Similarity :0.6856597661972046\n",
            "Document :ce22,Category : hobbies\n",
            "Most similar docs:\n",
            "Document_id:hobbies,Similarity :0.754861056804657\n",
            "Document_id:cg28,Similarity :0.7546784281730652\n",
            "Document_id:cf08,Similarity :0.5363921523094177\n",
            "Document :cg73,Category : belles_lettres\n",
            "Most similar docs:\n",
            "Document_id:fiction,Similarity :0.6467093825340271\n",
            "Document_id:cf08,Similarity :0.6465998291969299\n",
            "Document_id:humor,Similarity :0.5899978280067444\n",
            "Document :cf20,Category : lore\n",
            "Most similar docs:\n",
            "Document_id:romance,Similarity :0.7191145420074463\n",
            "Document_id:cn26,Similarity :0.7188385725021362\n",
            "Document_id:cf17,Similarity :0.5536761283874512\n",
            "Document :cp11,Category : romance\n",
            "Most similar docs:\n",
            "Document_id:news,Similarity :0.6984853744506836\n",
            "Document_id:ck07,Similarity :0.698054850101471\n",
            "Document_id:editorial,Similarity :0.5578060746192932\n",
            "Document :cf22,Category : lore\n",
            "Most similar docs:\n",
            "Document_id:romance,Similarity :0.6267789602279663\n",
            "Document_id:cn26,Similarity :0.6263673305511475\n",
            "Document_id:religion,Similarity :0.5779881477355957\n",
            "Document :cd10,Category : religion\n",
            "Most similar docs:\n",
            "Document_id:cd03,Similarity :0.7660227417945862\n",
            "Document_id:belles_lettres,Similarity :0.7658706903457642\n",
            "Document_id:cf08,Similarity :0.5199658870697021\n",
            "Document :ch14,Category : government\n",
            "Most similar docs:\n",
            "Document_id:ca37,Similarity :0.6315755248069763\n",
            "Document_id:religion,Similarity :0.6314374804496765\n",
            "Document_id:cd03,Similarity :0.5114181041717529\n",
            "Document :cn03,Category : adventure\n",
            "Most similar docs:\n",
            "Document_id:editorial,Similarity :0.8187513947486877\n",
            "Document_id:cn20,Similarity :0.8187161684036255\n",
            "Document_id:romance,Similarity :0.6418765783309937\n",
            "Document :cf19,Category : lore\n",
            "Most similar docs:\n",
            "Document_id:cf08,Similarity :0.6931924819946289\n",
            "Document_id:fiction,Similarity :0.6931013464927673\n",
            "Document_id:hobbies,Similarity :0.6277645230293274\n",
            "Document :ca23,Category : news\n",
            "Most similar docs:\n",
            "Document_id:religion,Similarity :0.6978273987770081\n",
            "Document_id:ca37,Similarity :0.6975699067115784\n",
            "Document_id:belles_lettres,Similarity :0.5579853057861328\n",
            "Document :cg42,Category : belles_lettres\n",
            "Most similar docs:\n",
            "Document_id:belles_lettres,Similarity :0.6038999557495117\n",
            "Document_id:cd03,Similarity :0.6038447022438049\n",
            "Document_id:humor,Similarity :0.5556697249412537\n",
            "Document :ce20,Category : hobbies\n",
            "Most similar docs:\n",
            "Document_id:cr04,Similarity :0.4959598183631897\n",
            "Document_id:learned,Similarity :0.4957428574562073\n",
            "Document_id:science_fiction,Similarity :0.44695043563842773\n",
            "Document :cg35,Category : belles_lettres\n",
            "Most similar docs:\n",
            "Document_id:ca37,Similarity :0.5583962202072144\n",
            "Document_id:religion,Similarity :0.5581503510475159\n",
            "Document_id:cd03,Similarity :0.5172361731529236\n",
            "Document :cl22,Category : mystery\n",
            "Most similar docs:\n",
            "Document_id:news,Similarity :0.5777475833892822\n",
            "Document_id:ck07,Similarity :0.5776274800300598\n",
            "Document_id:cr04,Similarity :0.5532079339027405\n",
            "Document :cg65,Category : belles_lettres\n",
            "Most similar docs:\n",
            "Document_id:hobbies,Similarity :0.6642305850982666\n",
            "Document_id:cg28,Similarity :0.6641840934753418\n",
            "Document_id:humor,Similarity :0.6591684222221375\n",
            "Document :cp21,Category : romance\n",
            "Most similar docs:\n",
            "Document_id:news,Similarity :0.5741502046585083\n",
            "Document_id:ck07,Similarity :0.5739722847938538\n",
            "Document_id:cn20,Similarity :0.5521957874298096\n",
            "Document :ch26,Category : government\n",
            "Most similar docs:\n",
            "Document_id:learned,Similarity :0.5950994491577148\n",
            "Document_id:cr04,Similarity :0.5950371026992798\n",
            "Document_id:adventure,Similarity :0.46219056844711304\n",
            "Document :cg05,Category : belles_lettres\n",
            "Most similar docs:\n",
            "Document_id:news,Similarity :0.5465330481529236\n",
            "Document_id:ck07,Similarity :0.546298086643219\n",
            "Document_id:fiction,Similarity :0.5023742318153381\n",
            "Document :cg49,Category : belles_lettres\n",
            "Most similar docs:\n",
            "Document_id:belles_lettres,Similarity :0.578774631023407\n",
            "Document_id:cd03,Similarity :0.5786246061325073\n",
            "Document_id:cf18,Similarity :0.5510604977607727\n",
            "Document :cn01,Category : adventure\n",
            "Most similar docs:\n",
            "Document_id:cn20,Similarity :0.7382520437240601\n",
            "Document_id:editorial,Similarity :0.7380724549293518\n",
            "Document_id:cr04,Similarity :0.6341917514801025\n",
            "Document :cn12,Category : adventure\n",
            "Most similar docs:\n",
            "Document_id:romance,Similarity :0.703662097454071\n",
            "Document_id:cn26,Similarity :0.7033846974372864\n",
            "Document_id:editorial,Similarity :0.6972436308860779\n",
            "Document :ca29,Category : news\n",
            "Most similar docs:\n",
            "Document_id:fiction,Similarity :0.7061715126037598\n",
            "Document_id:cf08,Similarity :0.7060559391975403\n",
            "Document_id:science_fiction,Similarity :0.576143741607666\n",
            "Document :cn23,Category : adventure\n",
            "Most similar docs:\n",
            "Document_id:editorial,Similarity :0.860480546951294\n",
            "Document_id:cn20,Similarity :0.8603180646896362\n",
            "Document_id:news,Similarity :0.6131323575973511\n",
            "Document :cg44,Category : belles_lettres\n",
            "Most similar docs:\n",
            "Document_id:hobbies,Similarity :0.7302448749542236\n",
            "Document_id:cg28,Similarity :0.7299579381942749\n",
            "Document_id:cf08,Similarity :0.6085602641105652\n",
            "Document :ch23,Category : government\n",
            "Most similar docs:\n",
            "Document_id:cf21,Similarity :0.6768311262130737\n",
            "Document_id:reviews,Similarity :0.6766971349716187\n",
            "Document_id:cj15,Similarity :0.414428174495697\n",
            "Document :ck01,Category : fiction\n",
            "Most similar docs:\n",
            "Document_id:learned,Similarity :0.6721035838127136\n",
            "Document_id:cr04,Similarity :0.67207932472229\n",
            "Document_id:cn20,Similarity :0.5811212658882141\n",
            "Document :ca24,Category : news\n",
            "Most similar docs:\n",
            "Document_id:belles_lettres,Similarity :0.5799005031585693\n",
            "Document_id:cd03,Similarity :0.5798255205154419\n",
            "Document_id:religion,Similarity :0.5693618059158325\n",
            "Document :ce04,Category : hobbies\n",
            "Most similar docs:\n",
            "Document_id:belles_lettres,Similarity :0.714282214641571\n",
            "Document_id:cd03,Similarity :0.7140650153160095\n",
            "Document_id:humor,Similarity :0.6226785182952881\n",
            "Document :cg27,Category : belles_lettres\n",
            "Most similar docs:\n",
            "Document_id:cf17,Similarity :0.5383791923522949\n",
            "Document_id:lore,Similarity :0.5383508801460266\n",
            "Document_id:hobbies,Similarity :0.5179113149642944\n",
            "Document :ck18,Category : fiction\n",
            "Most similar docs:\n",
            "Document_id:news,Similarity :0.7080569267272949\n",
            "Document_id:ck07,Similarity :0.7078010439872742\n",
            "Document_id:cn20,Similarity :0.5801862478256226\n",
            "Document :cn19,Category : adventure\n",
            "Most similar docs:\n",
            "Document_id:editorial,Similarity :0.633988618850708\n",
            "Document_id:cn20,Similarity :0.6339060068130493\n",
            "Document_id:news,Similarity :0.5527422428131104\n",
            "Document :ce15,Category : hobbies\n",
            "Most similar docs:\n",
            "Document_id:cn20,Similarity :0.6314152479171753\n",
            "Document_id:editorial,Similarity :0.631415069103241\n",
            "Document_id:adventure,Similarity :0.5641455054283142\n",
            "Document :cg50,Category : belles_lettres\n",
            "Most similar docs:\n",
            "Document_id:government,Similarity :0.6909337043762207\n",
            "Document_id:cf18,Similarity :0.6909027099609375\n",
            "Document_id:cf17,Similarity :0.5009889602661133\n",
            "Document :cm01,Category : science_fiction\n",
            "Most similar docs:\n",
            "Document_id:news,Similarity :0.7237967252731323\n",
            "Document_id:ck07,Similarity :0.723791241645813\n",
            "Document_id:editorial,Similarity :0.6016099452972412\n",
            "Document :cj28,Category : learned\n",
            "Most similar docs:\n",
            "Document_id:belles_lettres,Similarity :0.5160048604011536\n",
            "Document_id:cd03,Similarity :0.5159884691238403\n",
            "Document_id:fiction,Similarity :0.47641509771347046\n",
            "Document :cf09,Category : lore\n",
            "Most similar docs:\n",
            "Document_id:cn20,Similarity :0.48663702607154846\n",
            "Document_id:editorial,Similarity :0.4865109920501709\n",
            "Document_id:belles_lettres,Similarity :0.44512590765953064\n",
            "Document :cp19,Category : romance\n",
            "Most similar docs:\n",
            "Document_id:news,Similarity :0.7072714567184448\n",
            "Document_id:ck07,Similarity :0.707008957862854\n",
            "Document_id:editorial,Similarity :0.6472145318984985\n",
            "Document :cg51,Category : belles_lettres\n",
            "Most similar docs:\n",
            "Document_id:government,Similarity :0.627659797668457\n",
            "Document_id:cf18,Similarity :0.6274429559707642\n",
            "Document_id:belles_lettres,Similarity :0.6130916476249695\n",
            "Document :cg11,Category : belles_lettres\n",
            "Most similar docs:\n",
            "Document_id:hobbies,Similarity :0.5210763216018677\n",
            "Document_id:cg28,Similarity :0.5205433964729309\n",
            "Document_id:belles_lettres,Similarity :0.507017970085144\n",
            "Document :cc04,Category : reviews\n",
            "Most similar docs:\n",
            "Document_id:fiction,Similarity :0.6272383332252502\n",
            "Document_id:cf08,Similarity :0.6268911957740784\n",
            "Document_id:cg28,Similarity :0.5525657534599304\n",
            "Document :cg18,Category : belles_lettres\n",
            "Most similar docs:\n",
            "Document_id:hobbies,Similarity :0.7464066743850708\n",
            "Document_id:cg28,Similarity :0.7461728453636169\n",
            "Document_id:cj67,Similarity :0.6151461005210876\n",
            "Document :cj04,Category : learned\n",
            "Most similar docs:\n",
            "Document_id:cf21,Similarity :0.689788281917572\n",
            "Document_id:reviews,Similarity :0.6892452239990234\n",
            "Document_id:adventure,Similarity :0.6697476506233215\n",
            "Document :ca05,Category : news\n",
            "Most similar docs:\n",
            "Document_id:religion,Similarity :0.6755535006523132\n",
            "Document_id:ca37,Similarity :0.6754428148269653\n",
            "Document_id:belles_lettres,Similarity :0.5337761640548706\n",
            "Document :cf38,Category : lore\n",
            "Most similar docs:\n",
            "Document_id:cr04,Similarity :0.5383450388908386\n",
            "Document_id:learned,Similarity :0.5379571914672852\n",
            "Document_id:news,Similarity :0.519973635673523\n",
            "Document :cf27,Category : lore\n",
            "Most similar docs:\n",
            "Document_id:belles_lettres,Similarity :0.5681774616241455\n",
            "Document_id:cd03,Similarity :0.5678792595863342\n",
            "Document_id:cn26,Similarity :0.5057279467582703\n",
            "Document :cj43,Category : learned\n",
            "Most similar docs:\n",
            "Document_id:religion,Similarity :0.6934971213340759\n",
            "Document_id:ca37,Similarity :0.6934723854064941\n",
            "Document_id:government,Similarity :0.48702457547187805\n",
            "Document :cj56,Category : learned\n",
            "Most similar docs:\n",
            "Document_id:cf17,Similarity :0.7168502807617188\n",
            "Document_id:lore,Similarity :0.7166993618011475\n",
            "Document_id:cr04,Similarity :0.5019960999488831\n",
            "Document :cf03,Category : lore\n",
            "Most similar docs:\n",
            "Document_id:humor,Similarity :0.6610766053199768\n",
            "Document_id:cj67,Similarity :0.6608216762542725\n",
            "Document_id:hobbies,Similarity :0.6146012544631958\n",
            "Document :cj70,Category : learned\n",
            "Most similar docs:\n",
            "Document_id:cj15,Similarity :0.7197376489639282\n",
            "Document_id:adventure,Similarity :0.7196291089057922\n",
            "Document_id:lore,Similarity :0.6204415559768677\n",
            "Document :cj34,Category : learned\n",
            "Most similar docs:\n",
            "Document_id:humor,Similarity :0.6374316215515137\n",
            "Document_id:cj67,Similarity :0.6368966698646545\n",
            "Document_id:fiction,Similarity :0.5206135511398315\n",
            "Document :cg41,Category : belles_lettres\n",
            "Most similar docs:\n",
            "Document_id:cr04,Similarity :0.5888366103172302\n",
            "Document_id:learned,Similarity :0.5884222388267517\n",
            "Document_id:news,Similarity :0.49663785099983215\n",
            "Document :cc08,Category : reviews\n",
            "Most similar docs:\n",
            "Document_id:news,Similarity :0.7115511298179626\n",
            "Document_id:ck07,Similarity :0.7113631963729858\n",
            "Document_id:fiction,Similarity :0.47220656275749207\n",
            "Document :cp01,Category : romance\n",
            "Most similar docs:\n",
            "Document_id:cn20,Similarity :0.7762762904167175\n",
            "Document_id:editorial,Similarity :0.7761842012405396\n",
            "Document_id:news,Similarity :0.5538541078567505\n",
            "Document :ck24,Category : fiction\n",
            "Most similar docs:\n",
            "Document_id:news,Similarity :0.7424718141555786\n",
            "Document_id:ck07,Similarity :0.7422972321510315\n",
            "Document_id:editorial,Similarity :0.6446716785430908\n",
            "Document :cg54,Category : belles_lettres\n",
            "Most similar docs:\n",
            "Document_id:cr04,Similarity :0.5671689510345459\n",
            "Document_id:learned,Similarity :0.5669052004814148\n",
            "Document_id:belles_lettres,Similarity :0.4405048191547394\n",
            "Document :cp13,Category : romance\n",
            "Most similar docs:\n",
            "Document_id:editorial,Similarity :0.7674428820610046\n",
            "Document_id:cn20,Similarity :0.7673376202583313\n",
            "Document_id:news,Similarity :0.6624317169189453\n",
            "Document :ch13,Category : government\n",
            "Most similar docs:\n",
            "Document_id:religion,Similarity :0.7616130113601685\n",
            "Document_id:ca37,Similarity :0.7614883184432983\n",
            "Document_id:lore,Similarity :0.4290744662284851\n",
            "Document :cf07,Category : lore\n",
            "Most similar docs:\n",
            "Document_id:fiction,Similarity :0.8015432953834534\n",
            "Document_id:cf08,Similarity :0.8014975190162659\n",
            "Document_id:science_fiction,Similarity :0.5408384203910828\n",
            "Document :cg62,Category : belles_lettres\n",
            "Most similar docs:\n",
            "Document_id:lore,Similarity :0.6338045001029968\n",
            "Document_id:cf17,Similarity :0.6337698101997375\n",
            "Document_id:religion,Similarity :0.6111853122711182\n",
            "Document :ch21,Category : government\n",
            "Most similar docs:\n",
            "Document_id:ca37,Similarity :0.6373450756072998\n",
            "Document_id:religion,Similarity :0.637164831161499\n",
            "Document_id:cd03,Similarity :0.45146670937538147\n",
            "Document :ca28,Category : news\n",
            "Most similar docs:\n",
            "Document_id:science_fiction,Similarity :0.6479350924491882\n",
            "Document_id:cc17,Similarity :0.6478687524795532\n",
            "Document_id:cf17,Similarity :0.5933292508125305\n",
            "Document :cj78,Category : learned\n",
            "Most similar docs:\n",
            "Document_id:cf21,Similarity :0.6128100752830505\n",
            "Document_id:reviews,Similarity :0.6125845313072205\n",
            "Document_id:cj15,Similarity :0.6083237528800964\n",
            "Document :cj44,Category : learned\n",
            "Most similar docs:\n",
            "Document_id:belles_lettres,Similarity :0.6095605492591858\n",
            "Document_id:cd03,Similarity :0.6095516085624695\n",
            "Document_id:humor,Similarity :0.5883592367172241\n",
            "Document :cl19,Category : mystery\n",
            "Most similar docs:\n",
            "Document_id:editorial,Similarity :0.860566258430481\n",
            "Document_id:cn20,Similarity :0.8605284690856934\n",
            "Document_id:ck02,Similarity :0.5704753398895264\n",
            "Document :cp08,Category : romance\n",
            "Most similar docs:\n",
            "Document_id:cn20,Similarity :0.7375272512435913\n",
            "Document_id:editorial,Similarity :0.7374977469444275\n",
            "Document_id:news,Similarity :0.614918053150177\n",
            "Document :cf48,Category : lore\n",
            "Most similar docs:\n",
            "Document_id:belles_lettres,Similarity :0.6655825972557068\n",
            "Document_id:cd03,Similarity :0.665582001209259\n",
            "Document_id:hobbies,Similarity :0.5655887722969055\n",
            "Document :cf10,Category : lore\n",
            "Most similar docs:\n",
            "Document_id:fiction,Similarity :0.6316936612129211\n",
            "Document_id:cf08,Similarity :0.6315088272094727\n",
            "Document_id:cc17,Similarity :0.6271454691886902\n",
            "Document :cd01,Category : religion\n",
            "Most similar docs:\n",
            "Document_id:hobbies,Similarity :0.6305152773857117\n",
            "Document_id:cg28,Similarity :0.6301983594894409\n",
            "Document_id:belles_lettres,Similarity :0.5963922142982483\n",
            "Document :cf33,Category : lore\n",
            "Most similar docs:\n",
            "Document_id:belles_lettres,Similarity :0.6429856419563293\n",
            "Document_id:cd03,Similarity :0.642911434173584\n",
            "Document_id:cr04,Similarity :0.5514905452728271\n",
            "Document :cg58,Category : belles_lettres\n",
            "Most similar docs:\n",
            "Document_id:government,Similarity :0.6771064400672913\n",
            "Document_id:cf18,Similarity :0.6769234538078308\n",
            "Document_id:cf17,Similarity :0.596198320388794\n",
            "Document :cg47,Category : belles_lettres\n",
            "Most similar docs:\n",
            "Document_id:news,Similarity :0.6055440902709961\n",
            "Document_id:ck07,Similarity :0.60543292760849\n",
            "Document_id:mystery,Similarity :0.5837513208389282\n",
            "Document :cd08,Category : religion\n",
            "Most similar docs:\n",
            "Document_id:cf21,Similarity :0.6310802102088928\n",
            "Document_id:reviews,Similarity :0.6310206651687622\n",
            "Document_id:humor,Similarity :0.5423365235328674\n",
            "Document :cn16,Category : adventure\n",
            "Most similar docs:\n",
            "Document_id:news,Similarity :0.6882341504096985\n",
            "Document_id:ck07,Similarity :0.6882118582725525\n",
            "Document_id:editorial,Similarity :0.6344972848892212\n"
          ]
        }
      ],
      "source": [
        "def documents(model,test_corpus):\n",
        "  for doc_id in test_corpus:\n",
        "    words = brown.words(fileids = doc_id)\n",
        "    test_tokens = gensim.utils.simple_preprocess(' '.join(words))\n",
        "    i_vector = model.infer_vector(test_tokens)\n",
        "    similar_docs = model.docvecs.most_similar([i_vector],topn=3)\n",
        "    print(f\"Document :{doc_id},Category : {brown.categories(fileids = doc_id)[0]}\")\n",
        "    print(f\"Most similar docs:\")\n",
        "    for sim_doc_id,similarity in similar_docs:\n",
        "      print(f\"Document_id:{sim_doc_id},Similarity :{similarity}\")\n",
        "documents(model,test_corpus)"
      ]
    },
    {
      "cell_type": "code",
      "source": [
        "import nltk\n",
        "nltk.download('punkt')"
      ],
      "metadata": {
        "colab": {
          "base_uri": "https://localhost:8080/"
        },
        "id": "DRc2-NA7ZpHo",
        "outputId": "888b0ff6-b718-4e49-a57d-45d2fb40a7df"
      },
      "execution_count": 59,
      "outputs": [
        {
          "output_type": "stream",
          "name": "stderr",
          "text": [
            "[nltk_data] Downloading package punkt to /root/nltk_data...\n",
            "[nltk_data]   Package punkt is already up-to-date!\n"
          ]
        },
        {
          "output_type": "execute_result",
          "data": {
            "text/plain": [
              "True"
            ]
          },
          "metadata": {},
          "execution_count": 59
        }
      ]
    },
    {
      "cell_type": "markdown",
      "source": [
        "Use the stop word removal code from earlier on the 20 user groups:\n",
        "\n",
        "• How does that effect the word mover distance of documents? Pick 6 documents to compare (make sure to use the same splits so they are the same document)."
      ],
      "metadata": {
        "id": "P3tvIYMNipZk"
      }
    },
    {
      "cell_type": "code",
      "source": [
        "from sklearn.linear_model import LogisticRegression\n",
        "from sklearn.model_selection import train_test_split\n",
        "from sklearn.metrics import accuracy_score\n",
        "from sklearn.feature_extraction.text import CountVectorizer\n",
        "from sklearn.feature_extraction.text import ENGLISH_STOP_WORDS as sklearn_stop_words\n",
        "from nltk.corpus import stopwords\n",
        "from sklearn.metrics.pairwise import cosine_similarity\n",
        "from sklearn.datasets import fetch_20newsgroups\n",
        "from nltk.tokenize import word_tokenize\n",
        "nltk.download('stopwords')"
      ],
      "metadata": {
        "id": "jEHytTO0BG8U",
        "colab": {
          "base_uri": "https://localhost:8080/"
        },
        "outputId": "9158f166-d849-4b43-d3fc-9d359a7ad0ab"
      },
      "execution_count": 60,
      "outputs": [
        {
          "output_type": "stream",
          "name": "stderr",
          "text": [
            "[nltk_data] Downloading package stopwords to /root/nltk_data...\n",
            "[nltk_data]   Package stopwords is already up-to-date!\n"
          ]
        },
        {
          "output_type": "execute_result",
          "data": {
            "text/plain": [
              "True"
            ]
          },
          "metadata": {},
          "execution_count": 60
        }
      ]
    },
    {
      "cell_type": "code",
      "execution_count": 61,
      "metadata": {
        "id": "mccnIuZJYanD"
      },
      "outputs": [],
      "source": [
        "twe_news_df = fetch_20newsgroups(subset='train', shuffle=True, random_state=42)\n",
        "\n",
        "# Tokenize texts and remove stop words\n",
        "stop_words = set(stopwords.words('english'))\n",
        "filtered_texts = [' '.join([word for word in word_tokenize(text.lower()) if word.isalpha() and word not in stop_words]) for text in twe_news_df.data]\n",
        "stop_words_list = list(stop_words)\n",
        "\n",
        "vectorizer_with_stopwords = CountVectorizer(stop_words=stop_words_list)\n",
        "X_train_with_stopwords = vectorizer_with_stopwords.fit_transform(filtered_texts)"
      ]
    },
    {
      "cell_type": "code",
      "source": [
        "X_train_with_stopwords, X_test_with_stopwords, y_train, y_test = train_test_split(X_train_with_stopwords, twe_news_df.target, test_size=0.2, random_state=42)\n",
        "\n",
        "log_reg_with_stopwords = LogisticRegression(max_iter=1000)    # Training logistic regression model with stop words removal\n",
        "log_reg_with_stopwords.fit(X_train_with_stopwords, y_train)\n",
        "\n",
        "y_train_pred_with_stopwords = log_reg_with_stopwords.predict(X_train_with_stopwords)\n",
        "y_test_pred_with_stopwords = log_reg_with_stopwords.predict(X_test_with_stopwords)"
      ],
      "metadata": {
        "id": "HatGgtImaPQo"
      },
      "execution_count": 62,
      "outputs": []
    },
    {
      "cell_type": "code",
      "source": [
        "# accuracy with stop words removal\n",
        "train_accuracy_with_stopwords = accuracy_score(y_train, y_train_pred_with_stopwords)\n",
        "test_accuracy_with_stopwords = accuracy_score(y_test, y_test_pred_with_stopwords)\n",
        "\n",
        "print(\"Logistic Regression Accuracy with Stop Words Removal:\")\n",
        "print(\"Training Accuracy:\", train_accuracy_with_stopwords)\n",
        "print(\"Testing Accuracy:\", test_accuracy_with_stopwords)"
      ],
      "metadata": {
        "colab": {
          "base_uri": "https://localhost:8080/"
        },
        "id": "d68vvXPwaXmH",
        "outputId": "70b39a8c-e819-4af6-ebf2-c68fc959aa0f"
      },
      "execution_count": 63,
      "outputs": [
        {
          "output_type": "stream",
          "name": "stdout",
          "text": [
            "Logistic Regression Accuracy with Stop Words Removal:\n",
            "Training Accuracy: 0.999779029941443\n",
            "Testing Accuracy: 0.8789217852408308\n"
          ]
        }
      ]
    },
    {
      "cell_type": "markdown",
      "metadata": {
        "id": "WHHfd1tQbPM7"
      },
      "source": [
        "Word model distance"
      ]
    },
    {
      "cell_type": "markdown",
      "metadata": {
        "id": "yTFagFAQZvma"
      },
      "source": [
        "How does the code show difference on logistic regression"
      ]
    },
    {
      "cell_type": "code",
      "execution_count": 64,
      "metadata": {
        "colab": {
          "base_uri": "https://localhost:8080/"
        },
        "id": "KRykbCXeH8bR",
        "outputId": "66ca9407-9b16-4e51-e50a-7b8fdfd3f610"
      },
      "outputs": [
        {
          "output_type": "stream",
          "name": "stdout",
          "text": [
            "Requirement already satisfied: pot in /usr/local/lib/python3.10/dist-packages (0.9.3)\n",
            "Requirement already satisfied: numpy>=1.16 in /usr/local/lib/python3.10/dist-packages (from pot) (1.25.2)\n",
            "Requirement already satisfied: scipy>=1.6 in /usr/local/lib/python3.10/dist-packages (from pot) (1.11.4)\n"
          ]
        }
      ],
      "source": [
        "pip install pot"
      ]
    },
    {
      "cell_type": "code",
      "source": [
        "documents_to_compare = [0, 10, 20, 30, 40, 50]  # Assuming these are indices of documents\n",
        "tfidf_similarity = cosine_similarity(X_train_with_stopwords)\n",
        "\n",
        "print(\"Cosine Similarity Comparison:\")\n",
        "for idx1 in documents_to_compare:\n",
        "    for idx2 in documents_to_compare:\n",
        "        similarity = tfidf_similarity[idx1, idx2]\n",
        "        print(f\"Similarity between Document {idx1 + 1} and Document {idx2 + 1}: {similarity}\")"
      ],
      "metadata": {
        "colab": {
          "base_uri": "https://localhost:8080/"
        },
        "id": "vjckf_YibqVr",
        "outputId": "345bbe7d-5c51-4c11-9e35-f8f1781b8c1b"
      },
      "execution_count": 65,
      "outputs": [
        {
          "output_type": "stream",
          "name": "stdout",
          "text": [
            "Cosine Similarity Comparison:\n",
            "Similarity between Document 1 and Document 1: 0.9999999999999998\n",
            "Similarity between Document 1 and Document 11: 0.06446025638903101\n",
            "Similarity between Document 1 and Document 21: 0.03230104165360902\n",
            "Similarity between Document 1 and Document 31: 0.05923488777590923\n",
            "Similarity between Document 1 and Document 41: 0.0582716546748065\n",
            "Similarity between Document 1 and Document 51: 0.02182987566053555\n",
            "Similarity between Document 11 and Document 1: 0.06446025638903101\n",
            "Similarity between Document 11 and Document 11: 1.0000000000000013\n",
            "Similarity between Document 11 and Document 21: 0.0351649200941011\n",
            "Similarity between Document 11 and Document 31: 0.03627381250550058\n",
            "Similarity between Document 11 and Document 41: 0.04757860680698065\n",
            "Similarity between Document 11 and Document 51: 0.03564803767780932\n",
            "Similarity between Document 21 and Document 1: 0.03230104165360902\n",
            "Similarity between Document 21 and Document 11: 0.0351649200941011\n",
            "Similarity between Document 21 and Document 21: 1.0000000000000009\n",
            "Similarity between Document 21 and Document 31: 0.03029468580877791\n",
            "Similarity between Document 21 and Document 41: 0.035762467752637264\n",
            "Similarity between Document 21 and Document 51: 0.05954411883145434\n",
            "Similarity between Document 31 and Document 1: 0.05923488777590923\n",
            "Similarity between Document 31 and Document 11: 0.03627381250550058\n",
            "Similarity between Document 31 and Document 21: 0.03029468580877791\n",
            "Similarity between Document 31 and Document 31: 0.9999999999999991\n",
            "Similarity between Document 31 and Document 41: 0.08197822947299412\n",
            "Similarity between Document 31 and Document 51: 0.05323221467062121\n",
            "Similarity between Document 41 and Document 1: 0.0582716546748065\n",
            "Similarity between Document 41 and Document 11: 0.04757860680698065\n",
            "Similarity between Document 41 and Document 21: 0.035762467752637264\n",
            "Similarity between Document 41 and Document 31: 0.08197822947299412\n",
            "Similarity between Document 41 and Document 41: 0.9999999999999998\n",
            "Similarity between Document 41 and Document 51: 0.07250758963682738\n",
            "Similarity between Document 51 and Document 1: 0.02182987566053555\n",
            "Similarity between Document 51 and Document 11: 0.03564803767780932\n",
            "Similarity between Document 51 and Document 21: 0.05954411883145434\n",
            "Similarity between Document 51 and Document 31: 0.05323221467062121\n",
            "Similarity between Document 51 and Document 41: 0.07250758963682738\n",
            "Similarity between Document 51 and Document 51: 1.0000000000000022\n"
          ]
        }
      ]
    },
    {
      "cell_type": "markdown",
      "metadata": {
        "id": "hSOO93NWHX7U"
      },
      "source": [
        "How does it effect the logistic regression classifier"
      ]
    },
    {
      "cell_type": "code",
      "source": [
        "from sklearn.linear_model import LogisticRegression\n",
        "from sklearn.model_selection import train_test_split\n",
        "from sklearn.metrics import accuracy_score\n",
        "from sklearn.feature_extraction.text import CountVectorizer\n",
        "from sklearn.datasets import fetch_20newsgroups\n",
        "\n",
        "def train_test_logistic_regression_without_stopwords(data, target, test_size=0.2, random_state=42):\n",
        "    # Vectorize the text data without stop words removal\n",
        "    vectorizer = CountVectorizer()\n",
        "    X_train = vectorizer.fit_transform(data)\n",
        "\n",
        "    # Split the data into training and testing sets without stop words removal\n",
        "    X_train, X_test, y_train, y_test = train_test_split(X_train, target, test_size=test_size, random_state=random_state)\n",
        "\n",
        "    # Train logistic regression model without stop words removal\n",
        "    log_reg = LogisticRegression(max_iter=1000)\n",
        "    log_reg.fit(X_train, y_train)\n",
        "\n",
        "    # Predict on testing set without stop words removal\n",
        "    y_test_pred = log_reg.predict(X_test)\n",
        "\n",
        "    # Calculate accuracy without stop words removal\n",
        "    test_accuracy = accuracy_score(y_test, y_test_pred)\n",
        "\n",
        "    return test_accuracy\n",
        "\n",
        "# Fetch the 20 newsgroups dataset\n",
        "twe_news_df = fetch_20newsgroups(subset='train', shuffle=True, random_state=42)\n",
        "\n",
        "# Tokenize texts\n",
        "filtered_texts = twe_news_df.data\n",
        "\n",
        "# Train and test logistic regression model without stop words removal using the method\n",
        "test_accuracy_without_stopwords = train_test_logistic_regression_without_stopwords(filtered_texts, twe_news_df.target)\n",
        "\n",
        "# Print accuracy result\n",
        "print(\"Logistic Regression Accuracy without Stop Words Removal:\")\n",
        "print(\"Testing Accuracy:\", test_accuracy_without_stopwords)\n"
      ],
      "metadata": {
        "colab": {
          "base_uri": "https://localhost:8080/"
        },
        "id": "tA8G9XKfdv_I",
        "outputId": "f8e653b9-b007-491c-94ad-4d9e07e2c9f2"
      },
      "execution_count": 67,
      "outputs": [
        {
          "output_type": "stream",
          "name": "stdout",
          "text": [
            "Logistic Regression Accuracy without Stop Words Removal:\n",
            "Testing Accuracy: 0.8806893504197967\n"
          ]
        }
      ]
    },
    {
      "cell_type": "markdown",
      "source": [
        "So the removal of stop words does effect the accuracy of the  model and it is more accurate with stop word removal when compared to normal one"
      ],
      "metadata": {
        "id": "PPhaXQOPlFTP"
      }
    },
    {
      "cell_type": "code",
      "source": [
        "#function to remove the stop words\n",
        "def remove_stop_words(text):\n",
        "    stop_words = set(stopwords.words('english'))\n",
        "    words = word_tokenize(text)\n",
        "    text_without_stop_words = [word for word in words if word.lower() not in stop_words]\n",
        "    return ' '.join(text_without_stop_words)"
      ],
      "metadata": {
        "id": "-EdrxpJ3gSog"
      },
      "execution_count": 71,
      "outputs": []
    },
    {
      "cell_type": "code",
      "source": [
        "# Removing the stop wording from train and test\n",
        "X_train_without_stop_words = [remove_stop_words(text) for text in X_train]\n",
        "X_test_without_stop_words = [remove_stop_words(text) for text in X_test]"
      ],
      "metadata": {
        "id": "1BSf7ZiCglES"
      },
      "execution_count": 72,
      "outputs": []
    },
    {
      "cell_type": "code",
      "source": [
        "\n",
        "tokenized_train_data = [word_tokenize(text) for text in X_train_without_stop_words]"
      ],
      "metadata": {
        "id": "1wjcV-qngn6Z"
      },
      "execution_count": 73,
      "outputs": []
    },
    {
      "cell_type": "code",
      "source": [
        "from gensim.models import Word2Vec\n",
        "import numpy as np"
      ],
      "metadata": {
        "id": "E2Yejbc1hs1b"
      },
      "execution_count": 74,
      "outputs": []
    },
    {
      "cell_type": "code",
      "source": [
        "# Training Word2Vec model\n",
        "word2vec_model = Word2Vec(sentences=tokenized_train_data, vector_size=300, window=5, min_count=1, workers=4)\n",
        "\n"
      ],
      "metadata": {
        "id": "gCX-7GuvhRaC"
      },
      "execution_count": 75,
      "outputs": []
    },
    {
      "cell_type": "code",
      "source": [
        "# Defining function to calculate Word Mover's Distance (WMD) between documents\n",
        "def calculate_wmd(doc1, doc2):\n",
        "    doc1_tokens = word_tokenize(doc1)\n",
        "    doc2_tokens = word_tokenize(doc2)\n",
        "    return word2vec_model.wv.wmdistance(doc1_tokens, doc2_tokens)"
      ],
      "metadata": {
        "id": "-ByCZrHPiMaf"
      },
      "execution_count": 76,
      "outputs": []
    },
    {
      "cell_type": "markdown",
      "source": [
        "Choosing six documents for finding mover distance"
      ],
      "metadata": {
        "id": "i1uMjllei2kR"
      }
    },
    {
      "cell_type": "code",
      "source": [
        "# Choosing six documents for comparison using indexes\n",
        "doc_indices = [0, 10, 20, 30, 40, 50]\n",
        "selected_docs_before = [X_test[i] for i in doc_indices]\n",
        "selected_docs_after = [X_test_without_stop_words[i] for i in doc_indices]\n",
        "# Calculating Word Mover's Distance for selected documents before and after stop word removal\n",
        "wmd_before = []\n",
        "wmd_after = []\n",
        "for i in range(len(selected_docs_before)):\n",
        "    wmd_before.append(calculate_wmd(selected_docs_before[i], X_train[doc_indices[i]]))\n",
        "    wmd_after.append(calculate_wmd(selected_docs_after[i], X_train_without_stop_words[doc_indices[i]]))\n",
        "average_wmd_before = np.mean(wmd_before)\n",
        "average_wmd_after = np.mean(wmd_after)\n",
        "print(\"Average WMD Before Stop Word Removal:\", average_wmd_before)\n",
        "print(\"Average WMD After Stop Word Removal:\", average_wmd_after)"
      ],
      "metadata": {
        "colab": {
          "base_uri": "https://localhost:8080/"
        },
        "id": "LFQjAZOVhvLB",
        "outputId": "efbed157-322d-427f-951c-e224f0a60ae4"
      },
      "execution_count": 77,
      "outputs": [
        {
          "output_type": "stream",
          "name": "stdout",
          "text": [
            "Average WMD Before Stop Word Removal: 0.6625145976924062\n",
            "Average WMD After Stop Word Removal: 0.6723456872219623\n"
          ]
        }
      ]
    },
    {
      "cell_type": "markdown",
      "source": [],
      "metadata": {
        "id": "2yyrpTzIiYfL"
      }
    }
  ],
  "metadata": {
    "colab": {
      "provenance": []
    },
    "kernelspec": {
      "display_name": "Python 3 (ipykernel)",
      "language": "python",
      "name": "python3"
    },
    "language_info": {
      "codemirror_mode": {
        "name": "ipython",
        "version": 3
      },
      "file_extension": ".py",
      "mimetype": "text/x-python",
      "name": "python",
      "nbconvert_exporter": "python",
      "pygments_lexer": "ipython3",
      "version": "3.11.5"
    }
  },
  "nbformat": 4,
  "nbformat_minor": 0
}